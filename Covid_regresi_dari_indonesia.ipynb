{
  "nbformat": 4,
  "nbformat_minor": 0,
  "metadata": {
    "colab": {
      "name": "Covid regresi dari indonesia.ipynb",
      "provenance": [],
      "collapsed_sections": []
    },
    "kernelspec": {
      "name": "python3",
      "display_name": "Python 3"
    }
  },
  "cells": [
    {
      "cell_type": "code",
      "metadata": {
        "id": "n1KPgu13y0Go",
        "colab_type": "code",
        "outputId": "e28ee047-fc2e-4eb4-bbcc-a7164ccbe00e",
        "colab": {
          "base_uri": "https://localhost:8080/",
          "height": 124
        }
      },
      "source": [
        "from google.colab import drive\n",
        "drive.mount('/content/gdrive')\n"
      ],
      "execution_count": 0,
      "outputs": [
        {
          "output_type": "stream",
          "text": [
            "Go to this URL in a browser: https://accounts.google.com/o/oauth2/auth?client_id=947318989803-6bn6qk8qdgf4n4g3pfee6491hc0brc4i.apps.googleusercontent.com&redirect_uri=urn%3aietf%3awg%3aoauth%3a2.0%3aoob&response_type=code&scope=email%20https%3a%2f%2fwww.googleapis.com%2fauth%2fdocs.test%20https%3a%2f%2fwww.googleapis.com%2fauth%2fdrive%20https%3a%2f%2fwww.googleapis.com%2fauth%2fdrive.photos.readonly%20https%3a%2f%2fwww.googleapis.com%2fauth%2fpeopleapi.readonly\n",
            "\n",
            "Enter your authorization code:\n",
            "··········\n",
            "Mounted at /content/gdrive\n"
          ],
          "name": "stdout"
        }
      ]
    },
    {
      "cell_type": "markdown",
      "metadata": {
        "id": "R0D81xs0hXFL",
        "colab_type": "text"
      },
      "source": [
        "#import lib"
      ]
    },
    {
      "cell_type": "code",
      "metadata": {
        "id": "cDwPMRjszOAp",
        "colab_type": "code",
        "colab": {}
      },
      "source": [
        "import pandas as pd\n",
        "import seaborn as sn\n",
        "from sklearn.linear_model import LinearRegression\n",
        "from sklearn.model_selection import train_test_split\n",
        "from sklearn.metrics import mean_squared_error\n",
        "from sklearn.preprocessing import PolynomialFeatures\n",
        "import numpy as np\n",
        "from matplotlib import pyplot as plt\n",
        "data = pd.read_csv('gdrive/My Drive/Colab Notebooks/covid_19_data3.csv')\n",
        "data.rename(columns={'ObservationDate':'Date', 'Country/Region':'Country'}, inplace=True)\n",
        "#filter indonesia\n",
        "data = data[data['Country']=='Indonesia']"
      ],
      "execution_count": 0,
      "outputs": []
    },
    {
      "cell_type": "markdown",
      "metadata": {
        "id": "ps5DY9W-hbJn",
        "colab_type": "text"
      },
      "source": [
        "#Exploration"
      ]
    },
    {
      "cell_type": "code",
      "metadata": {
        "id": "yCQ_L70Z4fkv",
        "colab_type": "code",
        "outputId": "b6a23e9d-8cd5-4d81-eb52-16628c0fc0f2",
        "colab": {
          "base_uri": "https://localhost:8080/",
          "height": 329
        }
      },
      "source": [
        "data = data.groupby([\"Date\"])['Confirmed','Deaths', 'Recovered'].sum().reset_index()\n",
        "sorted_By_Confirmed1=data.sort_values('Date',ascending=False)\n",
        "data['DateIndex'] = data.index\n",
        "data.describe()"
      ],
      "execution_count": 0,
      "outputs": [
        {
          "output_type": "stream",
          "text": [
            "/usr/local/lib/python3.6/dist-packages/ipykernel_launcher.py:1: FutureWarning: Indexing with multiple keys (implicitly converted to a tuple of keys) will be deprecated, use a list instead.\n",
            "  \"\"\"Entry point for launching an IPython kernel.\n"
          ],
          "name": "stderr"
        },
        {
          "output_type": "execute_result",
          "data": {
            "text/html": [
              "<div>\n",
              "<style scoped>\n",
              "    .dataframe tbody tr th:only-of-type {\n",
              "        vertical-align: middle;\n",
              "    }\n",
              "\n",
              "    .dataframe tbody tr th {\n",
              "        vertical-align: top;\n",
              "    }\n",
              "\n",
              "    .dataframe thead th {\n",
              "        text-align: right;\n",
              "    }\n",
              "</style>\n",
              "<table border=\"1\" class=\"dataframe\">\n",
              "  <thead>\n",
              "    <tr style=\"text-align: right;\">\n",
              "      <th></th>\n",
              "      <th>Confirmed</th>\n",
              "      <th>Deaths</th>\n",
              "      <th>Recovered</th>\n",
              "      <th>DateIndex</th>\n",
              "    </tr>\n",
              "  </thead>\n",
              "  <tbody>\n",
              "    <tr>\n",
              "      <th>count</th>\n",
              "      <td>35.000000</td>\n",
              "      <td>35.000000</td>\n",
              "      <td>35.000000</td>\n",
              "      <td>35.000000</td>\n",
              "    </tr>\n",
              "    <tr>\n",
              "      <th>mean</th>\n",
              "      <td>622.542857</td>\n",
              "      <td>53.885714</td>\n",
              "      <td>35.285714</td>\n",
              "      <td>17.000000</td>\n",
              "    </tr>\n",
              "    <tr>\n",
              "      <th>std</th>\n",
              "      <td>715.577979</td>\n",
              "      <td>65.409467</td>\n",
              "      <td>46.840513</td>\n",
              "      <td>10.246951</td>\n",
              "    </tr>\n",
              "    <tr>\n",
              "      <th>min</th>\n",
              "      <td>2.000000</td>\n",
              "      <td>0.000000</td>\n",
              "      <td>0.000000</td>\n",
              "      <td>0.000000</td>\n",
              "    </tr>\n",
              "    <tr>\n",
              "      <th>25%</th>\n",
              "      <td>30.500000</td>\n",
              "      <td>0.500000</td>\n",
              "      <td>2.000000</td>\n",
              "      <td>8.500000</td>\n",
              "    </tr>\n",
              "    <tr>\n",
              "      <th>50%</th>\n",
              "      <td>311.000000</td>\n",
              "      <td>25.000000</td>\n",
              "      <td>11.000000</td>\n",
              "      <td>17.000000</td>\n",
              "    </tr>\n",
              "    <tr>\n",
              "      <th>75%</th>\n",
              "      <td>1100.500000</td>\n",
              "      <td>94.500000</td>\n",
              "      <td>52.500000</td>\n",
              "      <td>25.500000</td>\n",
              "    </tr>\n",
              "    <tr>\n",
              "      <th>max</th>\n",
              "      <td>2273.000000</td>\n",
              "      <td>198.000000</td>\n",
              "      <td>164.000000</td>\n",
              "      <td>34.000000</td>\n",
              "    </tr>\n",
              "  </tbody>\n",
              "</table>\n",
              "</div>"
            ],
            "text/plain": [
              "         Confirmed      Deaths   Recovered  DateIndex\n",
              "count    35.000000   35.000000   35.000000  35.000000\n",
              "mean    622.542857   53.885714   35.285714  17.000000\n",
              "std     715.577979   65.409467   46.840513  10.246951\n",
              "min       2.000000    0.000000    0.000000   0.000000\n",
              "25%      30.500000    0.500000    2.000000   8.500000\n",
              "50%     311.000000   25.000000   11.000000  17.000000\n",
              "75%    1100.500000   94.500000   52.500000  25.500000\n",
              "max    2273.000000  198.000000  164.000000  34.000000"
            ]
          },
          "metadata": {
            "tags": []
          },
          "execution_count": 27
        }
      ]
    },
    {
      "cell_type": "code",
      "metadata": {
        "id": "akmAL5-PXFlo",
        "colab_type": "code",
        "outputId": "db60df69-95c7-4380-efc5-91e3c11ac779",
        "colab": {
          "base_uri": "https://localhost:8080/",
          "height": 1000
        }
      },
      "source": [
        "data"
      ],
      "execution_count": 0,
      "outputs": [
        {
          "output_type": "execute_result",
          "data": {
            "text/html": [
              "<div>\n",
              "<style scoped>\n",
              "    .dataframe tbody tr th:only-of-type {\n",
              "        vertical-align: middle;\n",
              "    }\n",
              "\n",
              "    .dataframe tbody tr th {\n",
              "        vertical-align: top;\n",
              "    }\n",
              "\n",
              "    .dataframe thead th {\n",
              "        text-align: right;\n",
              "    }\n",
              "</style>\n",
              "<table border=\"1\" class=\"dataframe\">\n",
              "  <thead>\n",
              "    <tr style=\"text-align: right;\">\n",
              "      <th></th>\n",
              "      <th>Date</th>\n",
              "      <th>Confirmed</th>\n",
              "      <th>Deaths</th>\n",
              "      <th>Recovered</th>\n",
              "      <th>DateIndex</th>\n",
              "    </tr>\n",
              "  </thead>\n",
              "  <tbody>\n",
              "    <tr>\n",
              "      <th>0</th>\n",
              "      <td>03/02/2020</td>\n",
              "      <td>2.0</td>\n",
              "      <td>0.0</td>\n",
              "      <td>0.0</td>\n",
              "      <td>0</td>\n",
              "    </tr>\n",
              "    <tr>\n",
              "      <th>1</th>\n",
              "      <td>03/03/2020</td>\n",
              "      <td>2.0</td>\n",
              "      <td>0.0</td>\n",
              "      <td>0.0</td>\n",
              "      <td>1</td>\n",
              "    </tr>\n",
              "    <tr>\n",
              "      <th>2</th>\n",
              "      <td>03/04/2020</td>\n",
              "      <td>2.0</td>\n",
              "      <td>0.0</td>\n",
              "      <td>0.0</td>\n",
              "      <td>2</td>\n",
              "    </tr>\n",
              "    <tr>\n",
              "      <th>3</th>\n",
              "      <td>03/05/2020</td>\n",
              "      <td>2.0</td>\n",
              "      <td>0.0</td>\n",
              "      <td>0.0</td>\n",
              "      <td>3</td>\n",
              "    </tr>\n",
              "    <tr>\n",
              "      <th>4</th>\n",
              "      <td>03/06/2020</td>\n",
              "      <td>4.0</td>\n",
              "      <td>0.0</td>\n",
              "      <td>0.0</td>\n",
              "      <td>4</td>\n",
              "    </tr>\n",
              "    <tr>\n",
              "      <th>5</th>\n",
              "      <td>03/07/2020</td>\n",
              "      <td>4.0</td>\n",
              "      <td>0.0</td>\n",
              "      <td>0.0</td>\n",
              "      <td>5</td>\n",
              "    </tr>\n",
              "    <tr>\n",
              "      <th>6</th>\n",
              "      <td>03/08/2020</td>\n",
              "      <td>6.0</td>\n",
              "      <td>0.0</td>\n",
              "      <td>0.0</td>\n",
              "      <td>6</td>\n",
              "    </tr>\n",
              "    <tr>\n",
              "      <th>7</th>\n",
              "      <td>03/09/2020</td>\n",
              "      <td>19.0</td>\n",
              "      <td>0.0</td>\n",
              "      <td>0.0</td>\n",
              "      <td>7</td>\n",
              "    </tr>\n",
              "    <tr>\n",
              "      <th>8</th>\n",
              "      <td>03/10/2020</td>\n",
              "      <td>27.0</td>\n",
              "      <td>0.0</td>\n",
              "      <td>2.0</td>\n",
              "      <td>8</td>\n",
              "    </tr>\n",
              "    <tr>\n",
              "      <th>9</th>\n",
              "      <td>03/11/2020</td>\n",
              "      <td>34.0</td>\n",
              "      <td>1.0</td>\n",
              "      <td>2.0</td>\n",
              "      <td>9</td>\n",
              "    </tr>\n",
              "    <tr>\n",
              "      <th>10</th>\n",
              "      <td>03/12/2020</td>\n",
              "      <td>34.0</td>\n",
              "      <td>1.0</td>\n",
              "      <td>2.0</td>\n",
              "      <td>10</td>\n",
              "    </tr>\n",
              "    <tr>\n",
              "      <th>11</th>\n",
              "      <td>03/13/2020</td>\n",
              "      <td>69.0</td>\n",
              "      <td>4.0</td>\n",
              "      <td>2.0</td>\n",
              "      <td>11</td>\n",
              "    </tr>\n",
              "    <tr>\n",
              "      <th>12</th>\n",
              "      <td>03/14/2020</td>\n",
              "      <td>96.0</td>\n",
              "      <td>5.0</td>\n",
              "      <td>8.0</td>\n",
              "      <td>12</td>\n",
              "    </tr>\n",
              "    <tr>\n",
              "      <th>13</th>\n",
              "      <td>03/15/2020</td>\n",
              "      <td>117.0</td>\n",
              "      <td>5.0</td>\n",
              "      <td>8.0</td>\n",
              "      <td>13</td>\n",
              "    </tr>\n",
              "    <tr>\n",
              "      <th>14</th>\n",
              "      <td>03/16/2020</td>\n",
              "      <td>134.0</td>\n",
              "      <td>5.0</td>\n",
              "      <td>8.0</td>\n",
              "      <td>14</td>\n",
              "    </tr>\n",
              "    <tr>\n",
              "      <th>15</th>\n",
              "      <td>03/17/2020</td>\n",
              "      <td>172.0</td>\n",
              "      <td>5.0</td>\n",
              "      <td>8.0</td>\n",
              "      <td>15</td>\n",
              "    </tr>\n",
              "    <tr>\n",
              "      <th>16</th>\n",
              "      <td>03/18/2020</td>\n",
              "      <td>227.0</td>\n",
              "      <td>19.0</td>\n",
              "      <td>11.0</td>\n",
              "      <td>16</td>\n",
              "    </tr>\n",
              "    <tr>\n",
              "      <th>17</th>\n",
              "      <td>03/19/2020</td>\n",
              "      <td>311.0</td>\n",
              "      <td>25.0</td>\n",
              "      <td>11.0</td>\n",
              "      <td>17</td>\n",
              "    </tr>\n",
              "    <tr>\n",
              "      <th>18</th>\n",
              "      <td>03/20/2020</td>\n",
              "      <td>369.0</td>\n",
              "      <td>32.0</td>\n",
              "      <td>15.0</td>\n",
              "      <td>18</td>\n",
              "    </tr>\n",
              "    <tr>\n",
              "      <th>19</th>\n",
              "      <td>03/21/2020</td>\n",
              "      <td>450.0</td>\n",
              "      <td>38.0</td>\n",
              "      <td>15.0</td>\n",
              "      <td>19</td>\n",
              "    </tr>\n",
              "    <tr>\n",
              "      <th>20</th>\n",
              "      <td>03/22/2020</td>\n",
              "      <td>514.0</td>\n",
              "      <td>48.0</td>\n",
              "      <td>29.0</td>\n",
              "      <td>20</td>\n",
              "    </tr>\n",
              "    <tr>\n",
              "      <th>21</th>\n",
              "      <td>03/23/2020</td>\n",
              "      <td>579.0</td>\n",
              "      <td>49.0</td>\n",
              "      <td>30.0</td>\n",
              "      <td>21</td>\n",
              "    </tr>\n",
              "    <tr>\n",
              "      <th>22</th>\n",
              "      <td>03/24/2020</td>\n",
              "      <td>686.0</td>\n",
              "      <td>55.0</td>\n",
              "      <td>30.0</td>\n",
              "      <td>22</td>\n",
              "    </tr>\n",
              "    <tr>\n",
              "      <th>23</th>\n",
              "      <td>03/25/2020</td>\n",
              "      <td>790.0</td>\n",
              "      <td>58.0</td>\n",
              "      <td>31.0</td>\n",
              "      <td>23</td>\n",
              "    </tr>\n",
              "    <tr>\n",
              "      <th>24</th>\n",
              "      <td>03/26/2020</td>\n",
              "      <td>893.0</td>\n",
              "      <td>78.0</td>\n",
              "      <td>35.0</td>\n",
              "      <td>24</td>\n",
              "    </tr>\n",
              "    <tr>\n",
              "      <th>25</th>\n",
              "      <td>03/27/2020</td>\n",
              "      <td>1046.0</td>\n",
              "      <td>87.0</td>\n",
              "      <td>46.0</td>\n",
              "      <td>25</td>\n",
              "    </tr>\n",
              "    <tr>\n",
              "      <th>26</th>\n",
              "      <td>03/28/2020</td>\n",
              "      <td>1155.0</td>\n",
              "      <td>102.0</td>\n",
              "      <td>59.0</td>\n",
              "      <td>26</td>\n",
              "    </tr>\n",
              "    <tr>\n",
              "      <th>27</th>\n",
              "      <td>03/29/2020</td>\n",
              "      <td>1285.0</td>\n",
              "      <td>114.0</td>\n",
              "      <td>64.0</td>\n",
              "      <td>27</td>\n",
              "    </tr>\n",
              "    <tr>\n",
              "      <th>28</th>\n",
              "      <td>03/30/2020</td>\n",
              "      <td>1414.0</td>\n",
              "      <td>122.0</td>\n",
              "      <td>75.0</td>\n",
              "      <td>28</td>\n",
              "    </tr>\n",
              "    <tr>\n",
              "      <th>29</th>\n",
              "      <td>03/31/2020</td>\n",
              "      <td>1528.0</td>\n",
              "      <td>136.0</td>\n",
              "      <td>81.0</td>\n",
              "      <td>29</td>\n",
              "    </tr>\n",
              "    <tr>\n",
              "      <th>30</th>\n",
              "      <td>04/01/2020</td>\n",
              "      <td>1677.0</td>\n",
              "      <td>157.0</td>\n",
              "      <td>103.0</td>\n",
              "      <td>30</td>\n",
              "    </tr>\n",
              "    <tr>\n",
              "      <th>31</th>\n",
              "      <td>04/02/2020</td>\n",
              "      <td>1790.0</td>\n",
              "      <td>170.0</td>\n",
              "      <td>112.0</td>\n",
              "      <td>31</td>\n",
              "    </tr>\n",
              "    <tr>\n",
              "      <th>32</th>\n",
              "      <td>04/03/2020</td>\n",
              "      <td>1986.0</td>\n",
              "      <td>181.0</td>\n",
              "      <td>134.0</td>\n",
              "      <td>32</td>\n",
              "    </tr>\n",
              "    <tr>\n",
              "      <th>33</th>\n",
              "      <td>04/04/2020</td>\n",
              "      <td>2092.0</td>\n",
              "      <td>191.0</td>\n",
              "      <td>150.0</td>\n",
              "      <td>33</td>\n",
              "    </tr>\n",
              "    <tr>\n",
              "      <th>34</th>\n",
              "      <td>04/05/2020</td>\n",
              "      <td>2273.0</td>\n",
              "      <td>198.0</td>\n",
              "      <td>164.0</td>\n",
              "      <td>34</td>\n",
              "    </tr>\n",
              "  </tbody>\n",
              "</table>\n",
              "</div>"
            ],
            "text/plain": [
              "          Date  Confirmed  Deaths  Recovered  DateIndex\n",
              "0   03/02/2020        2.0     0.0        0.0          0\n",
              "1   03/03/2020        2.0     0.0        0.0          1\n",
              "2   03/04/2020        2.0     0.0        0.0          2\n",
              "3   03/05/2020        2.0     0.0        0.0          3\n",
              "4   03/06/2020        4.0     0.0        0.0          4\n",
              "5   03/07/2020        4.0     0.0        0.0          5\n",
              "6   03/08/2020        6.0     0.0        0.0          6\n",
              "7   03/09/2020       19.0     0.0        0.0          7\n",
              "8   03/10/2020       27.0     0.0        2.0          8\n",
              "9   03/11/2020       34.0     1.0        2.0          9\n",
              "10  03/12/2020       34.0     1.0        2.0         10\n",
              "11  03/13/2020       69.0     4.0        2.0         11\n",
              "12  03/14/2020       96.0     5.0        8.0         12\n",
              "13  03/15/2020      117.0     5.0        8.0         13\n",
              "14  03/16/2020      134.0     5.0        8.0         14\n",
              "15  03/17/2020      172.0     5.0        8.0         15\n",
              "16  03/18/2020      227.0    19.0       11.0         16\n",
              "17  03/19/2020      311.0    25.0       11.0         17\n",
              "18  03/20/2020      369.0    32.0       15.0         18\n",
              "19  03/21/2020      450.0    38.0       15.0         19\n",
              "20  03/22/2020      514.0    48.0       29.0         20\n",
              "21  03/23/2020      579.0    49.0       30.0         21\n",
              "22  03/24/2020      686.0    55.0       30.0         22\n",
              "23  03/25/2020      790.0    58.0       31.0         23\n",
              "24  03/26/2020      893.0    78.0       35.0         24\n",
              "25  03/27/2020     1046.0    87.0       46.0         25\n",
              "26  03/28/2020     1155.0   102.0       59.0         26\n",
              "27  03/29/2020     1285.0   114.0       64.0         27\n",
              "28  03/30/2020     1414.0   122.0       75.0         28\n",
              "29  03/31/2020     1528.0   136.0       81.0         29\n",
              "30  04/01/2020     1677.0   157.0      103.0         30\n",
              "31  04/02/2020     1790.0   170.0      112.0         31\n",
              "32  04/03/2020     1986.0   181.0      134.0         32\n",
              "33  04/04/2020     2092.0   191.0      150.0         33\n",
              "34  04/05/2020     2273.0   198.0      164.0         34"
            ]
          },
          "metadata": {
            "tags": []
          },
          "execution_count": 64
        }
      ]
    },
    {
      "cell_type": "code",
      "metadata": {
        "id": "nW7FAUMM57Ff",
        "colab_type": "code",
        "outputId": "0020d35f-c4c5-47e4-b93c-920a1763512f",
        "colab": {
          "base_uri": "https://localhost:8080/",
          "height": 764
        }
      },
      "source": [
        "sn.pairplot(data)"
      ],
      "execution_count": 0,
      "outputs": [
        {
          "output_type": "execute_result",
          "data": {
            "text/plain": [
              "<seaborn.axisgrid.PairGrid at 0x7f41ed64ae80>"
            ]
          },
          "metadata": {
            "tags": []
          },
          "execution_count": 29
        },
        {
          "output_type": "display_data",
          "data": {
            "image/png": "[encoded data removed]",
            "text/plain": [
              "<Figure size 720x720 with 20 Axes>"
            ]
          },
          "metadata": {
            "tags": []
          }
        }
      ]
    },
    {
      "cell_type": "code",
      "metadata": {
        "id": "en5E0yw5e3N7",
        "colab_type": "code",
        "outputId": "0cf62ec0-523d-4986-8115-68fcf2c4f5fd",
        "colab": {
          "base_uri": "https://localhost:8080/",
          "height": 289
        }
      },
      "source": [
        "sn.heatmap(data.corr(),annot=True)"
      ],
      "execution_count": 0,
      "outputs": [
        {
          "output_type": "execute_result",
          "data": {
            "text/plain": [
              "<matplotlib.axes._subplots.AxesSubplot at 0x7f41ed389400>"
            ]
          },
          "metadata": {
            "tags": []
          },
          "execution_count": 30
        },
        {
          "output_type": "display_data",
          "data": {
            "image/png": "[encoded data removed]",
            "text/plain": [
              "<Figure size 432x288 with 2 Axes>"
            ]
          },
          "metadata": {
            "tags": []
          }
        }
      ]
    },
    {
      "cell_type": "markdown",
      "metadata": {
        "id": "LSYceiPmjJcn",
        "colab_type": "text"
      },
      "source": [
        "#Model Prediction"
      ]
    },
    {
      "cell_type": "code",
      "metadata": {
        "id": "TKudNmyrzaYK",
        "colab_type": "code",
        "outputId": "f1a0b170-d412-44dc-ee88-a39ec2cfb265",
        "colab": {
          "base_uri": "https://localhost:8080/",
          "height": 34
        }
      },
      "source": [
        "x = pd.DataFrame(data.Confirmed)\n",
        "y = pd.DataFrame(data.Deaths)\n",
        "x_train, x_test, y_train, y_test = train_test_split(x, y, test_size=0.1)\n",
        "model = LinearRegression()\n",
        "model.fit(x_train, y_train)"
      ],
      "execution_count": 0,
      "outputs": [
        {
          "output_type": "execute_result",
          "data": {
            "text/plain": [
              "LinearRegression(copy_X=True, fit_intercept=True, n_jobs=None, normalize=False)"
            ]
          },
          "metadata": {
            "tags": []
          },
          "execution_count": 31
        }
      ]
    },
    {
      "cell_type": "code",
      "metadata": {
        "id": "BUJjh7SkbNIc",
        "colab_type": "code",
        "outputId": "80bd912f-21ba-481e-d392-7d8a0902adbb",
        "colab": {
          "base_uri": "https://localhost:8080/",
          "height": 624
        }
      },
      "source": [
        "#error training\n",
        "y_train_predicted = model.predict(x_train)\n",
        "rmse_train = np.sqrt(mean_squared_error(y_train, y_train_predicted))\n",
        "print(\"The model performance for the training set\")\n",
        "print(\"-------------------------------------------\")\n",
        "print(\"RMSE of training set is {}\".format(rmse_train))\n",
        "\n",
        "result_train=pd.DataFrame(y_train_predicted)\n",
        "result_train['Real Value']=y_train.iloc[:,:].values\n",
        "result_train['Predicted Value']=pd.DataFrame(y_train_predicted)\n",
        "result_train=result_train[['Real Value','Predicted Value']]\n",
        "result_train.loc[(result_train['Predicted Value']<1), ['Predicted Value']] = [0]\n",
        "print(result_train)"
      ],
      "execution_count": 0,
      "outputs": [
        {
          "output_type": "stream",
          "text": [
            "The model performance for the training set\n",
            "-------------------------------------------\n",
            "RMSE of training set is 4.155343019693875\n",
            "    Real Value  Predicted Value\n",
            "0         38.0        37.970922\n",
            "1        102.0       102.197174\n",
            "2         78.0        78.328695\n",
            "3          0.0         0.000000\n",
            "4          0.0         0.000000\n",
            "5        136.0       136.177872\n",
            "6        170.0       160.046352\n",
            "7          1.0         0.000000\n",
            "8        114.0       114.040313\n",
            "9          0.0         0.000000\n",
            "10         0.0         0.000000\n",
            "11        19.0        17.655384\n",
            "12       191.0       187.558874\n",
            "13         5.0         7.634267\n",
            "14         0.0         0.000000\n",
            "15       198.0       204.048167\n",
            "16         0.0         0.000000\n",
            "17         5.0         9.182985\n",
            "18        48.0        43.801390\n",
            "19         4.0         3.261415\n",
            "20         5.0         5.721144\n",
            "21        49.0        49.722960\n",
            "22        55.0        59.470774\n",
            "23         1.0         0.000000\n",
            "24        87.0        92.267158\n",
            "25         5.0        12.644825\n",
            "26         0.0         0.000000\n",
            "27         0.0         0.000000\n",
            "28        58.0        68.945285\n",
            "29       122.0       125.792351\n",
            "30       157.0       149.751931\n"
          ],
          "name": "stdout"
        }
      ]
    },
    {
      "cell_type": "code",
      "metadata": {
        "id": "9VXbndL5z8fp",
        "colab_type": "code",
        "outputId": "d6f86983-b1e9-4f22-e834-d721d2ea86de",
        "colab": {
          "base_uri": "https://localhost:8080/",
          "height": 208
        }
      },
      "source": [
        "#error testing\n",
        "y_test_predict = model.predict(x_test)\n",
        "rmse_test = np.sqrt(mean_squared_error(y_test, y_test_predict))\n",
        "print(\"\\n\\n The model performance for the testing set\")\n",
        "print(\"-------------------------------------------\")\n",
        "print(\"RMSE of testing set is {} \\n\".format(rmse_test))\n",
        "result=pd.DataFrame(y_test_predict)\n",
        "result['Real Value']=y_test.iloc[:,:].values\n",
        "result['Predicted Value']=pd.DataFrame(y_test_predict)\n",
        "result=result[['Real Value','Predicted Value']]\n",
        "result.loc[(result['Predicted Value']<1), ['Predicted Value']] = [0]\n",
        "\n",
        "print(result)"
      ],
      "execution_count": 0,
      "outputs": [
        {
          "output_type": "stream",
          "text": [
            "\n",
            "\n",
            " The model performance for the testing set\n",
            "-------------------------------------------\n",
            "RMSE of testing set is 2.165122319933864 \n",
            "\n",
            "   Real Value  Predicted Value\n",
            "0        25.0        25.307874\n",
            "1        32.0        30.591736\n",
            "2       181.0       177.902161\n",
            "3         0.0         0.000000\n"
          ],
          "name": "stdout"
        }
      ]
    },
    {
      "cell_type": "code",
      "metadata": {
        "id": "0nL6GuxU02dr",
        "colab_type": "code",
        "outputId": "286555c7-365f-454b-c9f4-49a3990a5f6f",
        "colab": {
          "base_uri": "https://localhost:8080/",
          "height": 594
        }
      },
      "source": [
        "x=x_train\n",
        "y=result_train['Real Value']\n",
        "y1=result_train['Predicted Value']\n",
        "sn.set(style=\"whitegrid\")\n",
        "f, ax = plt.subplots(figsize=(12,10 ))\n",
        "plt.scatter(x,y,color='blue',marker='X', label='Real Value')\n",
        "plt.scatter(x,y1,color='red' ,marker='o',label=\"Predicted Value\")\n",
        "ax.legend(ncol=2, loc='upper left', frameon=True)\n",
        "plt.show()"
      ],
      "execution_count": 0,
      "outputs": [
        {
          "output_type": "display_data",
          "data": {
            "image/png": "[encoded data removed]",
            "text/plain": [
              "<Figure size 864x720 with 1 Axes>"
            ]
          },
          "metadata": {
            "tags": []
          }
        }
      ]
    },
    {
      "cell_type": "code",
      "metadata": {
        "id": "rDCpaAT82Eq9",
        "colab_type": "code",
        "outputId": "49e4c246-ce66-4b11-c21d-10e34dc84f2e",
        "colab": {
          "base_uri": "https://localhost:8080/",
          "height": 285
        }
      },
      "source": [
        "x1 = result['Real Value']\n",
        "y1 = x_test\n",
        "plt.plot(x1, y1, color='red',label = \"Real Value\", linestyle='dashdot', linewidth = 0.5,\n",
        "         marker='o', markerfacecolor='blue', markersize=12)\n",
        "x2 = result['Predicted Value']\n",
        "y2 = x_test\n",
        "plt.plot(x2, y2, color='blue',label = \"Predicted Value\", linestyle='dashdot', linewidth = 0.5,\n",
        "         marker='X', markerfacecolor='black', markersize=12)\n",
        "plt.xlabel('Deaths')\n",
        "plt.ylabel('Case Confirmed')\n",
        "plt.legend()\n",
        "plt.show()"
      ],
      "execution_count": 0,
      "outputs": [
        {
          "output_type": "display_data",
          "data": {
            "image/png": "[encoded data removed]",
            "text/plain": [
              "<Figure size 432x288 with 1 Axes>"
            ]
          },
          "metadata": {
            "tags": []
          }
        }
      ]
    },
    {
      "cell_type": "markdown",
      "metadata": {
        "id": "8LrW9XJO5uaN",
        "colab_type": "text"
      },
      "source": [
        "#Confirms and Deaths"
      ]
    },
    {
      "cell_type": "code",
      "metadata": {
        "id": "N8B88wlw4JVJ",
        "colab_type": "code",
        "colab": {}
      },
      "source": [
        "x = pd.DataFrame(data.index)\n",
        "y = pd.DataFrame(data.Confirmed)\n",
        "x_train_con, x_test_con, y_train_con, y_test_con = train_test_split(x, y, test_size=0.1)"
      ],
      "execution_count": 0,
      "outputs": []
    },
    {
      "cell_type": "code",
      "metadata": {
        "id": "xwplv6286Caz",
        "colab_type": "code",
        "colab": {}
      },
      "source": [
        "# model_confirm = LinearRegression()\n",
        "# model_confirm.fit(x_train_con, y_train_con)\n",
        "# confirm_pred = model_confirm.predict(x_train_con)\n",
        "# rmse_train = np.sqrt(mean_squared_error(y_train_con, confirm_pred))\n",
        "# print(\"The model performance for the training set\")\n",
        "# print(\"-------------------------------------------\")\n",
        "# print(\"RMSE of training set is {}\".format(rmse_train))\n",
        "\n",
        "# result_train=pd.DataFrame(confirm_pred)\n",
        "# result_train['Real Value']=y_train_con.iloc[:,:].values\n",
        "# result_train['Predicted Value']=pd.DataFrame(confirm_pred)\n",
        "# result_train=result_train[['Real Value','Predicted Value']]\n",
        "# result_train.loc[(result_train['Predicted Value']<1), ['Predicted Value']] = [0]\n",
        "# print(result_train)"
      ],
      "execution_count": 0,
      "outputs": []
    },
    {
      "cell_type": "code",
      "metadata": {
        "id": "4TC5SszT-jDA",
        "colab_type": "code",
        "colab": {}
      },
      "source": [
        "poly_reg=PolynomialFeatures(degree=5)\n",
        "x_poly=poly_reg.fit_transform(x_train_con)\n",
        "lin_reg2=LinearRegression()\n",
        "r = lin_reg2.fit(x_poly,y_train_con)"
      ],
      "execution_count": 0,
      "outputs": []
    },
    {
      "cell_type": "code",
      "metadata": {
        "id": "sTR6v4G_-9SR",
        "colab_type": "code",
        "outputId": "24e2dd67-84fb-4430-ffc9-722859bf7054",
        "colab": {
          "base_uri": "https://localhost:8080/",
          "height": 69
        }
      },
      "source": [
        "#testing\n",
        "y_pred=lin_reg2.predict(poly_reg.fit_transform(x_test_con))\n",
        "#training\n",
        "y_pred_train=lin_reg2.predict(poly_reg.fit_transform(x_train_con))\n",
        "#metric\n",
        "rmse_train = np.sqrt(mean_squared_error(y_train_con, y_pred_train))\n",
        "print(\"The model performance for the training set\")\n",
        "print(\"-------------------------------------------\")\n",
        "print(\"RMSE of training set is {}\".format(rmse_train))"
      ],
      "execution_count": 0,
      "outputs": [
        {
          "output_type": "stream",
          "text": [
            "The model performance for the training set\n",
            "-------------------------------------------\n",
            "RMSE of training set is 12.876022182667844\n"
          ],
          "name": "stdout"
        }
      ]
    },
    {
      "cell_type": "code",
      "metadata": {
        "id": "KhhrFBIo_GY-",
        "colab_type": "code",
        "outputId": "54d09a93-51e8-483b-b47d-741d13077187",
        "colab": {
          "base_uri": "https://localhost:8080/",
          "height": 572
        }
      },
      "source": [
        "result_train_con=pd.DataFrame(y_pred_train)\n",
        "result_train_con['Real Value']=y_train_con.iloc[:,:].values\n",
        "result_train_con['Predicted Value']=pd.DataFrame(y_pred_train)\n",
        "result_train_con=result_train_con[['Real Value','Predicted Value']]\n",
        "print(result_train_con)"
      ],
      "execution_count": 0,
      "outputs": [
        {
          "output_type": "stream",
          "text": [
            "    Real Value  Predicted Value\n",
            "0        369.0       364.366499\n",
            "1          4.0         7.243325\n",
            "2        117.0       110.492991\n",
            "3         19.0        10.003938\n",
            "4       1790.0      1819.922580\n",
            "5       1155.0      1144.942575\n",
            "6       1986.0      1964.895261\n",
            "7         34.0        37.836447\n",
            "8        893.0       909.519013\n",
            "9       1528.0      1537.942903\n",
            "10         2.0        -4.506335\n",
            "11       450.0       437.097959\n",
            "12        96.0        80.346447\n",
            "13        34.0        24.416380\n",
            "14       686.0       699.469710\n",
            "15      1285.0      1271.138879\n",
            "16      2273.0      2258.960761\n",
            "17         2.0         2.921577\n",
            "18       311.0       299.087732\n",
            "19         2.0         7.496720\n",
            "20      1677.0      1677.364815\n",
            "21       172.0       190.628284\n",
            "22       227.0       241.214098\n",
            "23      1414.0      1402.327784\n",
            "24       790.0       801.145667\n",
            "25         4.0         6.876143\n",
            "26       134.0       147.141708\n",
            "27         2.0         6.473942\n",
            "28      1046.0      1024.250701\n",
            "29      2092.0      2111.513445\n",
            "30         6.0         7.468051\n"
          ],
          "name": "stdout"
        }
      ]
    },
    {
      "cell_type": "code",
      "metadata": {
        "id": "GruYfwPxeI_c",
        "colab_type": "code",
        "outputId": "c44395f1-5a8f-4748-a04a-a804bf910341",
        "colab": {
          "base_uri": "https://localhost:8080/",
          "height": 173
        }
      },
      "source": [
        "rmse_test = np.sqrt(mean_squared_error(y_test_con, y_pred))\n",
        "print(\"The model performance for the testing set\")\n",
        "print(\"-------------------------------------------\")\n",
        "print(\"RMSE of testing set is {} \\n\".format(rmse_test))\n",
        "result_test_con=pd.DataFrame(y_pred)\n",
        "result_test_con['Real Value']=y_test_con.iloc[:,:].values\n",
        "result_test_con['Predicted Value']=pd.DataFrame(y_pred)\n",
        "result_test_con=result_test_con[['Real Value','Predicted Value']]\n",
        "print(result_test_con)"
      ],
      "execution_count": 0,
      "outputs": [
        {
          "output_type": "stream",
          "text": [
            "The model performance for the testing set\n",
            "-------------------------------------------\n",
            "RMSE of testing set is 15.582115291285131 \n",
            "\n",
            "   Real Value  Predicted Value\n",
            "0        27.0        15.382225\n",
            "1        69.0        56.290556\n",
            "2       579.0       604.769548\n",
            "3       514.0       517.261438\n"
          ],
          "name": "stdout"
        }
      ]
    },
    {
      "cell_type": "markdown",
      "metadata": {
        "id": "1XtsLBwlj_o_",
        "colab_type": "text"
      },
      "source": [
        "#prediction positive cases for 30 & 31 march"
      ]
    },
    {
      "cell_type": "code",
      "metadata": {
        "id": "GdpHyKN5_cxB",
        "colab_type": "code",
        "outputId": "51a1fb64-34eb-42b7-b9db-f89e67fdb1be",
        "colab": {
          "base_uri": "https://localhost:8080/",
          "height": 110
        }
      },
      "source": [
        "new_data=pd.DataFrame([35,36])#30 & 31\n",
        "new_result=lin_reg2.predict(poly_reg.fit_transform(new_data))\n",
        "new_result = pd.DataFrame(new_result)\n",
        "new_result"
      ],
      "execution_count": 0,
      "outputs": [
        {
          "output_type": "execute_result",
          "data": {
            "text/html": [
              "<div>\n",
              "<style scoped>\n",
              "    .dataframe tbody tr th:only-of-type {\n",
              "        vertical-align: middle;\n",
              "    }\n",
              "\n",
              "    .dataframe tbody tr th {\n",
              "        vertical-align: top;\n",
              "    }\n",
              "\n",
              "    .dataframe thead th {\n",
              "        text-align: right;\n",
              "    }\n",
              "</style>\n",
              "<table border=\"1\" class=\"dataframe\">\n",
              "  <thead>\n",
              "    <tr style=\"text-align: right;\">\n",
              "      <th></th>\n",
              "      <th>0</th>\n",
              "    </tr>\n",
              "  </thead>\n",
              "  <tbody>\n",
              "    <tr>\n",
              "      <th>0</th>\n",
              "      <td>2406.375398</td>\n",
              "    </tr>\n",
              "    <tr>\n",
              "      <th>1</th>\n",
              "      <td>2552.851629</td>\n",
              "    </tr>\n",
              "  </tbody>\n",
              "</table>\n",
              "</div>"
            ],
            "text/plain": [
              "             0\n",
              "0  2406.375398\n",
              "1  2552.851629"
            ]
          },
          "metadata": {
            "tags": []
          },
          "execution_count": 43
        }
      ]
    },
    {
      "cell_type": "markdown",
      "metadata": {
        "id": "pYh1UlcJlwck",
        "colab_type": "text"
      },
      "source": [
        "#prediction deaths for 30 & 31 march"
      ]
    },
    {
      "cell_type": "code",
      "metadata": {
        "id": "rv90Dy9NhAMt",
        "colab_type": "code",
        "colab": {}
      },
      "source": [
        "new_data=pd.DataFrame([26,27,28,29,30,31,32,33,34,35])\n",
        "new_result=lin_reg2.predict(poly_reg.fit_transform(new_data))\n",
        "confirmNew=pd.DataFrame(new_result)\n",
        "deathsPredict = model.predict(confirmNew)\n",
        "deathsPredict = pd.DataFrame(deathsPredict)\n"
      ],
      "execution_count": 0,
      "outputs": []
    },
    {
      "cell_type": "code",
      "metadata": {
        "id": "S24psoRTuD68",
        "colab_type": "code",
        "outputId": "ddbb48f9-b481-4d40-d0c8-8ddfbd93aeb3",
        "colab": {
          "base_uri": "https://localhost:8080/",
          "height": 356
        }
      },
      "source": [
        "confirmNew"
      ],
      "execution_count": 0,
      "outputs": [
        {
          "output_type": "execute_result",
          "data": {
            "text/html": [
              "<div>\n",
              "<style scoped>\n",
              "    .dataframe tbody tr th:only-of-type {\n",
              "        vertical-align: middle;\n",
              "    }\n",
              "\n",
              "    .dataframe tbody tr th {\n",
              "        vertical-align: top;\n",
              "    }\n",
              "\n",
              "    .dataframe thead th {\n",
              "        text-align: right;\n",
              "    }\n",
              "</style>\n",
              "<table border=\"1\" class=\"dataframe\">\n",
              "  <thead>\n",
              "    <tr style=\"text-align: right;\">\n",
              "      <th></th>\n",
              "      <th>0</th>\n",
              "    </tr>\n",
              "  </thead>\n",
              "  <tbody>\n",
              "    <tr>\n",
              "      <th>0</th>\n",
              "      <td>1144.942575</td>\n",
              "    </tr>\n",
              "    <tr>\n",
              "      <th>1</th>\n",
              "      <td>1271.138879</td>\n",
              "    </tr>\n",
              "    <tr>\n",
              "      <th>2</th>\n",
              "      <td>1402.327784</td>\n",
              "    </tr>\n",
              "    <tr>\n",
              "      <th>3</th>\n",
              "      <td>1537.942903</td>\n",
              "    </tr>\n",
              "    <tr>\n",
              "      <th>4</th>\n",
              "      <td>1677.364815</td>\n",
              "    </tr>\n",
              "    <tr>\n",
              "      <th>5</th>\n",
              "      <td>1819.922580</td>\n",
              "    </tr>\n",
              "    <tr>\n",
              "      <th>6</th>\n",
              "      <td>1964.895261</td>\n",
              "    </tr>\n",
              "    <tr>\n",
              "      <th>7</th>\n",
              "      <td>2111.513445</td>\n",
              "    </tr>\n",
              "    <tr>\n",
              "      <th>8</th>\n",
              "      <td>2258.960761</td>\n",
              "    </tr>\n",
              "    <tr>\n",
              "      <th>9</th>\n",
              "      <td>2406.375398</td>\n",
              "    </tr>\n",
              "  </tbody>\n",
              "</table>\n",
              "</div>"
            ],
            "text/plain": [
              "             0\n",
              "0  1144.942575\n",
              "1  1271.138879\n",
              "2  1402.327784\n",
              "3  1537.942903\n",
              "4  1677.364815\n",
              "5  1819.922580\n",
              "6  1964.895261\n",
              "7  2111.513445\n",
              "8  2258.960761\n",
              "9  2406.375398"
            ]
          },
          "metadata": {
            "tags": []
          },
          "execution_count": 61
        }
      ]
    },
    {
      "cell_type": "code",
      "metadata": {
        "id": "qaoyRPs5vLYb",
        "colab_type": "code",
        "outputId": "d89a0e39-7c9f-427f-d4e9-a93404332864",
        "colab": {
          "base_uri": "https://localhost:8080/",
          "height": 356
        }
      },
      "source": [
        "deathsPredict"
      ],
      "execution_count": 0,
      "outputs": [
        {
          "output_type": "execute_result",
          "data": {
            "text/html": [
              "<div>\n",
              "<style scoped>\n",
              "    .dataframe tbody tr th:only-of-type {\n",
              "        vertical-align: middle;\n",
              "    }\n",
              "\n",
              "    .dataframe tbody tr th {\n",
              "        vertical-align: top;\n",
              "    }\n",
              "\n",
              "    .dataframe thead th {\n",
              "        text-align: right;\n",
              "    }\n",
              "</style>\n",
              "<table border=\"1\" class=\"dataframe\">\n",
              "  <thead>\n",
              "    <tr style=\"text-align: right;\">\n",
              "      <th></th>\n",
              "      <th>0</th>\n",
              "    </tr>\n",
              "  </thead>\n",
              "  <tbody>\n",
              "    <tr>\n",
              "      <th>0</th>\n",
              "      <td>101.280932</td>\n",
              "    </tr>\n",
              "    <tr>\n",
              "      <th>1</th>\n",
              "      <td>112.777550</td>\n",
              "    </tr>\n",
              "    <tr>\n",
              "      <th>2</th>\n",
              "      <td>124.728999</td>\n",
              "    </tr>\n",
              "    <tr>\n",
              "      <th>3</th>\n",
              "      <td>137.083682</td>\n",
              "    </tr>\n",
              "    <tr>\n",
              "      <th>4</th>\n",
              "      <td>149.785167</td>\n",
              "    </tr>\n",
              "    <tr>\n",
              "      <th>5</th>\n",
              "      <td>162.772331</td>\n",
              "    </tr>\n",
              "    <tr>\n",
              "      <th>6</th>\n",
              "      <td>175.979497</td>\n",
              "    </tr>\n",
              "    <tr>\n",
              "      <th>7</th>\n",
              "      <td>189.336570</td>\n",
              "    </tr>\n",
              "    <tr>\n",
              "      <th>8</th>\n",
              "      <td>202.769178</td>\n",
              "    </tr>\n",
              "    <tr>\n",
              "      <th>9</th>\n",
              "      <td>216.198809</td>\n",
              "    </tr>\n",
              "  </tbody>\n",
              "</table>\n",
              "</div>"
            ],
            "text/plain": [
              "            0\n",
              "0  101.280932\n",
              "1  112.777550\n",
              "2  124.728999\n",
              "3  137.083682\n",
              "4  149.785167\n",
              "5  162.772331\n",
              "6  175.979497\n",
              "7  189.336570\n",
              "8  202.769178\n",
              "9  216.198809"
            ]
          },
          "metadata": {
            "tags": []
          },
          "execution_count": 62
        }
      ]
    },
    {
      "cell_type": "code",
      "metadata": {
        "id": "4l3YeCaGkJ4g",
        "colab_type": "code",
        "colab": {}
      },
      "source": [
        "nd=pd.DataFrame([26,27,28,29,30,31,32,33,34,35,36])\n",
        "nr=lin_reg2.predict(poly_reg.fit_transform(nd))\n",
        "cn=pd.DataFrame(nr)\n",
        "dp = model.predict(cn)\n",
        "dp = pd.DataFrame(dp)"
      ],
      "execution_count": 0,
      "outputs": []
    },
    {
      "cell_type": "code",
      "metadata": {
        "id": "4MP7vyVhkmUg",
        "colab_type": "code",
        "outputId": "a2310d6e-daec-4cb2-cdb0-89104ee87134",
        "colab": {
          "base_uri": "https://localhost:8080/",
          "height": 386
        }
      },
      "source": [
        "dp"
      ],
      "execution_count": 0,
      "outputs": [
        {
          "output_type": "execute_result",
          "data": {
            "text/html": [
              "<div>\n",
              "<style scoped>\n",
              "    .dataframe tbody tr th:only-of-type {\n",
              "        vertical-align: middle;\n",
              "    }\n",
              "\n",
              "    .dataframe tbody tr th {\n",
              "        vertical-align: top;\n",
              "    }\n",
              "\n",
              "    .dataframe thead th {\n",
              "        text-align: right;\n",
              "    }\n",
              "</style>\n",
              "<table border=\"1\" class=\"dataframe\">\n",
              "  <thead>\n",
              "    <tr style=\"text-align: right;\">\n",
              "      <th></th>\n",
              "      <th>0</th>\n",
              "    </tr>\n",
              "  </thead>\n",
              "  <tbody>\n",
              "    <tr>\n",
              "      <th>0</th>\n",
              "      <td>101.280932</td>\n",
              "    </tr>\n",
              "    <tr>\n",
              "      <th>1</th>\n",
              "      <td>112.777550</td>\n",
              "    </tr>\n",
              "    <tr>\n",
              "      <th>2</th>\n",
              "      <td>124.728999</td>\n",
              "    </tr>\n",
              "    <tr>\n",
              "      <th>3</th>\n",
              "      <td>137.083682</td>\n",
              "    </tr>\n",
              "    <tr>\n",
              "      <th>4</th>\n",
              "      <td>149.785167</td>\n",
              "    </tr>\n",
              "    <tr>\n",
              "      <th>5</th>\n",
              "      <td>162.772331</td>\n",
              "    </tr>\n",
              "    <tr>\n",
              "      <th>6</th>\n",
              "      <td>175.979497</td>\n",
              "    </tr>\n",
              "    <tr>\n",
              "      <th>7</th>\n",
              "      <td>189.336570</td>\n",
              "    </tr>\n",
              "    <tr>\n",
              "      <th>8</th>\n",
              "      <td>202.769178</td>\n",
              "    </tr>\n",
              "    <tr>\n",
              "      <th>9</th>\n",
              "      <td>216.198809</td>\n",
              "    </tr>\n",
              "    <tr>\n",
              "      <th>10</th>\n",
              "      <td>229.542950</td>\n",
              "    </tr>\n",
              "  </tbody>\n",
              "</table>\n",
              "</div>"
            ],
            "text/plain": [
              "             0\n",
              "0   101.280932\n",
              "1   112.777550\n",
              "2   124.728999\n",
              "3   137.083682\n",
              "4   149.785167\n",
              "5   162.772331\n",
              "6   175.979497\n",
              "7   189.336570\n",
              "8   202.769178\n",
              "9   216.198809\n",
              "10  229.542950"
            ]
          },
          "metadata": {
            "tags": []
          },
          "execution_count": 70
        }
      ]
    },
    {
      "cell_type": "code",
      "metadata": {
        "id": "hOZXzp4OvPGQ",
        "colab_type": "code",
        "outputId": "81ff87fa-267d-4dcf-c8fb-dd2a73976d60",
        "colab": {
          "base_uri": "https://localhost:8080/",
          "height": 34
        }
      },
      "source": [
        "dc = data.iloc[26:35,1:2]\n",
        "dd = data.iloc[26:35,2:3]\n",
        "# \n",
        "dd\n",
        "rmse_death = np.sqrt(mean_squared_error(dd, deathsPredict.iloc[0:9,:]))\n",
        "rmse_death"
      ],
      "execution_count": 0,
      "outputs": [
        {
          "output_type": "execute_result",
          "data": {
            "text/plain": [
              "4.290089024196129"
            ]
          },
          "metadata": {
            "tags": []
          },
          "execution_count": 67
        }
      ]
    },
    {
      "cell_type": "code",
      "metadata": {
        "id": "26ENsea0oXbz",
        "colab_type": "code",
        "outputId": "ca3a9668-b083-4f4f-9d96-9b3881a27baa",
        "colab": {
          "base_uri": "https://localhost:8080/",
          "height": 34
        }
      },
      "source": [
        "rmse_confirm = np.sqrt(mean_squared_error(dc, confirmNew.iloc[0:9,:]))\n",
        "rmse_confirm"
      ],
      "execution_count": 0,
      "outputs": [
        {
          "output_type": "execute_result",
          "data": {
            "text/plain": [
              "16.489603021527422"
            ]
          },
          "metadata": {
            "tags": []
          },
          "execution_count": 72
        }
      ]
    },
    {
      "cell_type": "code",
      "metadata": {
        "id": "Of0JSRjvhHWg",
        "colab_type": "code",
        "outputId": "c3254d90-6a63-4bf9-c374-d8236518b652",
        "colab": {
          "base_uri": "https://localhost:8080/",
          "height": 325
        }
      },
      "source": [
        "deathsPredict.iloc[0:9,:]"
      ],
      "execution_count": 0,
      "outputs": [
        {
          "output_type": "execute_result",
          "data": {
            "text/html": [
              "<div>\n",
              "<style scoped>\n",
              "    .dataframe tbody tr th:only-of-type {\n",
              "        vertical-align: middle;\n",
              "    }\n",
              "\n",
              "    .dataframe tbody tr th {\n",
              "        vertical-align: top;\n",
              "    }\n",
              "\n",
              "    .dataframe thead th {\n",
              "        text-align: right;\n",
              "    }\n",
              "</style>\n",
              "<table border=\"1\" class=\"dataframe\">\n",
              "  <thead>\n",
              "    <tr style=\"text-align: right;\">\n",
              "      <th></th>\n",
              "      <th>0</th>\n",
              "    </tr>\n",
              "  </thead>\n",
              "  <tbody>\n",
              "    <tr>\n",
              "      <th>0</th>\n",
              "      <td>101.280932</td>\n",
              "    </tr>\n",
              "    <tr>\n",
              "      <th>1</th>\n",
              "      <td>112.777550</td>\n",
              "    </tr>\n",
              "    <tr>\n",
              "      <th>2</th>\n",
              "      <td>124.728999</td>\n",
              "    </tr>\n",
              "    <tr>\n",
              "      <th>3</th>\n",
              "      <td>137.083682</td>\n",
              "    </tr>\n",
              "    <tr>\n",
              "      <th>4</th>\n",
              "      <td>149.785167</td>\n",
              "    </tr>\n",
              "    <tr>\n",
              "      <th>5</th>\n",
              "      <td>162.772331</td>\n",
              "    </tr>\n",
              "    <tr>\n",
              "      <th>6</th>\n",
              "      <td>175.979497</td>\n",
              "    </tr>\n",
              "    <tr>\n",
              "      <th>7</th>\n",
              "      <td>189.336570</td>\n",
              "    </tr>\n",
              "    <tr>\n",
              "      <th>8</th>\n",
              "      <td>202.769178</td>\n",
              "    </tr>\n",
              "  </tbody>\n",
              "</table>\n",
              "</div>"
            ],
            "text/plain": [
              "            0\n",
              "0  101.280932\n",
              "1  112.777550\n",
              "2  124.728999\n",
              "3  137.083682\n",
              "4  149.785167\n",
              "5  162.772331\n",
              "6  175.979497\n",
              "7  189.336570\n",
              "8  202.769178"
            ]
          },
          "metadata": {
            "tags": []
          },
          "execution_count": 66
        }
      ]
    },
    {
      "cell_type": "code",
      "metadata": {
        "id": "EsL0asgUi9O2",
        "colab_type": "code",
        "colab": {}
      },
      "source": [
        ""
      ],
      "execution_count": 0,
      "outputs": []
    }
  ]
}